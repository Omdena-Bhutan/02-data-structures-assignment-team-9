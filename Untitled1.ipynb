{
  "nbformat": 4,
  "nbformat_minor": 0,
  "metadata": {
    "colab": {
      "provenance": [],
      "authorship_tag": "ABX9TyNIJdc/I4FbHuzmP3bNd0A2",
      "include_colab_link": true
    },
    "kernelspec": {
      "name": "python3",
      "display_name": "Python 3"
    },
    "language_info": {
      "name": "python"
    }
  },
  "cells": [
    {
      "cell_type": "markdown",
      "metadata": {
        "id": "view-in-github",
        "colab_type": "text"
      },
      "source": [
        "<a href=\"https://colab.research.google.com/github/Omdena-Bhutan/02-data-structures-assignment-team-9/blob/main/Untitled1.ipynb\" target=\"_parent\"><img src=\"https://colab.research.google.com/assets/colab-badge.svg\" alt=\"Open In Colab\"/></a>"
      ]
    },
    {
      "cell_type": "code",
      "execution_count": null,
      "metadata": {
        "id": "xbPxXRv9N2Zz"
      },
      "outputs": [],
      "source": [
        "# Notes\n",
        "# defining a list/ creating list\n",
        "numbers  = [1,2,3,4]"
      ]
    },
    {
      "cell_type": "code",
      "source": [
        "type(numbers)"
      ],
      "metadata": {
        "colab": {
          "base_uri": "https://localhost:8080/"
        },
        "id": "vt2oq6D8OU0C",
        "outputId": "de581b12-5d24-46c1-ead1-1910c2aedb5c"
      },
      "execution_count": null,
      "outputs": [
        {
          "output_type": "execute_result",
          "data": {
            "text/plain": [
              "list"
            ]
          },
          "metadata": {},
          "execution_count": 11
        }
      ]
    },
    {
      "cell_type": "code",
      "source": [
        "# create list of string\n",
        "names = [\"Alice\", \"Janet\", \"Bob\"]\n",
        "print(names)"
      ],
      "metadata": {
        "colab": {
          "base_uri": "https://localhost:8080/"
        },
        "id": "5MtnjwdbOb6k",
        "outputId": "6d9f13d5-f33d-4184-dd3a-ab67f17956ad"
      },
      "execution_count": null,
      "outputs": [
        {
          "output_type": "stream",
          "name": "stdout",
          "text": [
            "['Alice', 'Janet', 'Bob']\n"
          ]
        }
      ]
    },
    {
      "cell_type": "code",
      "source": [
        "# heterogenous list\n",
        "mixed = [1, \"Desmond\", True, 1.2]\n",
        "mixed [1]"
      ],
      "metadata": {
        "colab": {
          "base_uri": "https://localhost:8080/",
          "height": 35
        },
        "id": "7Y9IkWMPOneC",
        "outputId": "5a897589-e2a4-4222-a6e8-25101debca4a"
      },
      "execution_count": null,
      "outputs": [
        {
          "output_type": "execute_result",
          "data": {
            "text/plain": [
              "'Desmond'"
            ],
            "application/vnd.google.colaboratory.intrinsic+json": {
              "type": "string"
            }
          },
          "metadata": {},
          "execution_count": 31
        }
      ]
    },
    {
      "cell_type": "code",
      "source": [
        "# add element to list\n",
        "names.append(\"David\")\n",
        "names"
      ],
      "metadata": {
        "colab": {
          "base_uri": "https://localhost:8080/"
        },
        "id": "EZHjURTYP97i",
        "outputId": "fd15bed6-99b5-47ca-ea7e-db8a2ede4bad"
      },
      "execution_count": null,
      "outputs": [
        {
          "output_type": "execute_result",
          "data": {
            "text/plain": [
              "['Alice', 'Janet', 'Bob', 'David']"
            ]
          },
          "metadata": {},
          "execution_count": 32
        }
      ]
    },
    {
      "cell_type": "code",
      "source": [
        "# remove\n",
        "names.remove(\"Janet\")\n",
        "names"
      ],
      "metadata": {
        "colab": {
          "base_uri": "https://localhost:8080/"
        },
        "id": "LE0c5ZU7QX3X",
        "outputId": "a9f055ab-7474-4fa0-83b8-3ffd696adc6c"
      },
      "execution_count": null,
      "outputs": [
        {
          "output_type": "execute_result",
          "data": {
            "text/plain": [
              "['Alice', 'Bob', 'David']"
            ]
          },
          "metadata": {},
          "execution_count": 33
        }
      ]
    },
    {
      "cell_type": "code",
      "source": [],
      "metadata": {
        "id": "-qiVfOQQQxx1"
      },
      "execution_count": null,
      "outputs": []
    },
    {
      "cell_type": "markdown",
      "source": [
        "create list of fruits - apple, banana, cherry\n",
        "-add element mango into list\n",
        "-remove element banana from list\n",
        "-finally add an element orange to be first element in the list such that result is orange, apple,cherry, mango"
      ],
      "metadata": {
        "id": "ieLOPx5xQ4Zc"
      }
    },
    {
      "cell_type": "code",
      "source": [
        "fruits = [\"Apple\", \"Banana\", \"Cherry\"]\n",
        "fruits"
      ],
      "metadata": {
        "colab": {
          "base_uri": "https://localhost:8080/"
        },
        "id": "gXU_LzWBRUL0",
        "outputId": "6eb20f6e-59ed-423b-eeff-867918fe6dfa"
      },
      "execution_count": null,
      "outputs": [
        {
          "output_type": "execute_result",
          "data": {
            "text/plain": [
              "['Apple', 'Banana', 'Cherry']"
            ]
          },
          "metadata": {},
          "execution_count": 34
        }
      ]
    },
    {
      "cell_type": "code",
      "source": [
        "fruits.append(\"Mango\")\n",
        "fruits"
      ],
      "metadata": {
        "colab": {
          "base_uri": "https://localhost:8080/"
        },
        "id": "WbipEruORg96",
        "outputId": "0968e335-c3ae-4814-cfa0-6f8ea07238ca"
      },
      "execution_count": null,
      "outputs": [
        {
          "output_type": "execute_result",
          "data": {
            "text/plain": [
              "['Apple', 'Banana', 'Cherry', 'Mango']"
            ]
          },
          "metadata": {},
          "execution_count": 35
        }
      ]
    },
    {
      "cell_type": "code",
      "source": [
        "fruits.remove(\"Banana\")\n",
        "fruits"
      ],
      "metadata": {
        "colab": {
          "base_uri": "https://localhost:8080/"
        },
        "id": "ci5z5VHLRpy5",
        "outputId": "76fa5aa5-8db3-4cd0-8989-c88b2de6350e"
      },
      "execution_count": null,
      "outputs": [
        {
          "output_type": "execute_result",
          "data": {
            "text/plain": [
              "['Apple', 'Cherry', 'Mango']"
            ]
          },
          "metadata": {},
          "execution_count": 36
        }
      ]
    },
    {
      "cell_type": "code",
      "source": [
        "fruits[0]=\"Orange\"\n",
        "fruits"
      ],
      "metadata": {
        "colab": {
          "base_uri": "https://localhost:8080/"
        },
        "id": "2QJ9sSKVTRj9",
        "outputId": "4de53ef3-606f-43a8-a33c-b96579b8f940"
      },
      "execution_count": null,
      "outputs": [
        {
          "output_type": "execute_result",
          "data": {
            "text/plain": [
              "['Orange', 'Apple', 'Cherry', 'Mango']"
            ]
          },
          "metadata": {},
          "execution_count": 46
        }
      ]
    },
    {
      "cell_type": "markdown",
      "source": [
        "Tuples()\n",
        "- immutable"
      ],
      "metadata": {
        "id": "7lQ6A5CkVEYn"
      }
    },
    {
      "cell_type": "code",
      "source": [
        "fruits = (\"apple\", \"banana\", \"mango\")\n",
        "\n",
        "print(fruits[2])\n"
      ],
      "metadata": {
        "id": "YmuJajrAltf0",
        "colab": {
          "base_uri": "https://localhost:8080/"
        },
        "outputId": "a59d7721-a47e-47be-c4a7-a9f7b6696956"
      },
      "execution_count": 51,
      "outputs": [
        {
          "output_type": "stream",
          "name": "stdout",
          "text": [
            "mango\n"
          ]
        }
      ]
    },
    {
      "cell_type": "markdown",
      "source": [
        "Dictionaries"
      ],
      "metadata": {
        "id": "RYHmrbD6XWcA"
      }
    },
    {
      "cell_type": "code",
      "source": [
        "person = {\n",
        "    \"name\": \"Dorji\",\n",
        "    \"age\": 22,\n",
        "    \"city\": \"Thimphu\"\n",
        "}\n",
        "\n",
        "print(person[\"name\"])\n",
        "print(person[\"age\"])\n",
        "print(person[\"city\"])\n"
      ],
      "metadata": {
        "id": "IY0LdQfmXvMB",
        "colab": {
          "base_uri": "https://localhost:8080/"
        },
        "outputId": "fae43327-140a-44f0-c411-63bb815f96ae"
      },
      "execution_count": null,
      "outputs": [
        {
          "output_type": "stream",
          "name": "stdout",
          "text": [
            "Dorji\n",
            "22\n",
            "Thimphu\n"
          ]
        }
      ]
    },
    {
      "cell_type": "code",
      "source": [],
      "metadata": {
        "id": "cI5iQ6vTlpo6"
      },
      "execution_count": null,
      "outputs": []
    }
  ]
}