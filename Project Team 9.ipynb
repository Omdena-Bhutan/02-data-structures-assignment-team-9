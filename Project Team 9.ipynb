{
  "nbformat": 4,
  "nbformat_minor": 0,
  "metadata": {
    "colab": {
      "provenance": [],
      "authorship_tag": "ABX9TyM6NklZmOdfZwpl9ALDUHgt",
      "include_colab_link": true
    },
    "kernelspec": {
      "name": "python3",
      "display_name": "Python 3"
    },
    "language_info": {
      "name": "python"
    }
  },
  "cells": [
    {
      "cell_type": "markdown",
      "metadata": {
        "id": "view-in-github",
        "colab_type": "text"
      },
      "source": [
        "<a href=\"https://colab.research.google.com/github/Omdena-Bhutan/02-data-structures-assignment-team-9/blob/main/Project%20Team%209.ipynb\" target=\"_parent\"><img src=\"https://colab.research.google.com/assets/colab-badge.svg\" alt=\"Open In Colab\"/></a>"
      ]
    },
    {
      "cell_type": "markdown",
      "source": [],
      "metadata": {
        "id": "i5WAoinnTckf"
      }
    },
    {
      "cell_type": "code",
      "execution_count": 2,
      "metadata": {
        "colab": {
          "base_uri": "https://localhost:8080/"
        },
        "id": "RPWrSWpHSusK",
        "outputId": "22cefeab-7ab7-4d99-dde9-a8cc4ee40806"
      },
      "outputs": [
        {
          "output_type": "stream",
          "name": "stdout",
          "text": [
            "Fantasy Quest Inventory Management System \n",
            "\n",
            "Hero Profile\n",
            "Alistair is at level 1\n",
            "Hero Profile:  {'Name': 'Alistair', 'Level': 1, 'Health': 85, 'Mana': 50, 'Gold': 50.75, 'is_alive': True}\n",
            "Bag\n",
            "Sword\n",
            "Potion\n",
            "Mana Potion\n",
            "Skills\n",
            "Skills are in tuple and you cannot change.\n",
            "Intelligence: 12\n",
            "Quests\n",
            "{'Defeat Goblin', 'Find Amulet'}\n",
            "Character Sheet\n",
            "{'Profile': {'Name': 'Alistair', 'Level': 1, 'Health': 85, 'Mana': 50, 'Gold': 50.75, 'is_alive': True}, 'Bag': ['Sword', 'Potion', 'Mana Potion'], 'Skills': (10, 8, 12), 'quests': {'Defeat Goblin', 'Find Amulet'}}\n"
          ]
        }
      ],
      "source": [
        "# title\n",
        "print(\"Fantasy Quest Inventory Management System \\n\")\n",
        "\n",
        "#character profile using dictionary\n",
        "profile = {\n",
        "    \"Name\" : \"Alistair\",\n",
        "    \"Level\" : 1,\n",
        "    \"Health\" : 100,\n",
        "    \"Mana\" : 50,\n",
        "    \"Gold\" : 50.75,\n",
        "    \"is_alive\" : True\n",
        "}\n",
        "\n",
        "print(\"Hero Profile\")\n",
        "print(f\"{profile['Name']} is at level {profile['Level']}\")\n",
        "profile[\"Health\"]=85\n",
        "print(\"Hero Profile: \", profile)\n",
        "\n",
        "# Inventory (List)\n",
        "Bag=[\"Sword\", \"Shield\", \"Potion\"]\n",
        "Bag.append(\"Mana Potion\")\n",
        "Bag.remove(\"Shield\")\n",
        "print(\"Bag\")\n",
        "for thing in Bag:\n",
        "  print(thing)\n",
        "\n",
        "# Tuple (Skills)\n",
        "Skills = (10, 8, 12)\n",
        "print(\"Skills\")\n",
        "print(\"Skills are in tuple and you cannot change.\")\n",
        "print(\"Intelligence:\", Skills[2])\n",
        "\n",
        "# Quests (Set)\n",
        "quests = {\"Defeat Goblin\", \"Find Amulet\"}\n",
        "quests.add(\"Deliver Scroll\")\n",
        "quests.add(\"Find Amulet\")\n",
        "quests.remove(\"Deliver Scroll\")\n",
        "\n",
        "print(\"Quests\")\n",
        "print(quests)\n",
        "\n",
        "# Full Character Sheet\n",
        "Sheet = {\n",
        "    \"Profile\": profile,\n",
        "    \"Bag\": Bag,\n",
        "    \"Skills\": Skills,\n",
        "    \"quests\": quests\n",
        "}\n",
        "\n",
        "print(\"Character Sheet\")\n",
        "print(Sheet)"
      ]
    }
  ]
}